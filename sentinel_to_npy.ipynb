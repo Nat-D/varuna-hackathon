{
  "nbformat": 4,
  "nbformat_minor": 0,
  "metadata": {
    "colab": {
      "name": "sentinel-to-npy.ipynb",
      "provenance": [],
      "authorship_tag": "ABX9TyPBdK7hlggndH13HgPq3vFn",
      "include_colab_link": true
    },
    "kernelspec": {
      "name": "python3",
      "display_name": "Python 3"
    },
    "language_info": {
      "name": "python"
    }
  },
  "cells": [
    {
      "cell_type": "markdown",
      "metadata": {
        "id": "view-in-github",
        "colab_type": "text"
      },
      "source": [
        "<a href=\"https://colab.research.google.com/github/Nat-D/varuna-hackathon/blob/main/sentinel_to_npy.ipynb\" target=\"_parent\"><img src=\"https://colab.research.google.com/assets/colab-badge.svg\" alt=\"Open In Colab\"/></a>"
      ]
    },
    {
      "cell_type": "code",
      "execution_count": 1,
      "metadata": {
        "id": "jjkrHNf0IDcw"
      },
      "outputs": [],
      "source": [
        "import os\n",
        "os.environ['OPENCV_IO_ENABLE_JASPER']= 'True'\n",
        "import cv2\n",
        "import numpy as np"
      ]
    },
    {
      "cell_type": "code",
      "source": [
        "data_folder = '/content/drive/MyDrive/Varuna Hackathon 2022/sentinel-2 image/'\n",
        "all_folders = [ data_folder + '2020/', data_folder + '2021/']\n",
        "\n",
        "for sub_folder in all_folders:\n",
        "  year = sub_folder[-5:-1]\n",
        "  saved_folder = '/content/combined_spectrals/' + year\n",
        "\n",
        "  all_dates = os.listdir(sub_folder)\n",
        "\n",
        "  for date in all_dates:\n",
        "    print(date)\n",
        "\n",
        "    aot_path = os.path.join(sub_folder, date, 'IMG_DATA/47PQS_'+ date + '_AOT.jp2')\n",
        "    b1_path = os.path.join(sub_folder, date, 'IMG_DATA/47PQS_'+ date + '_B01.jp2')\n",
        "    b2_path = os.path.join(sub_folder, date, 'IMG_DATA/47PQS_'+ date + '_B02.jp2')\n",
        "    b3_path = os.path.join(sub_folder, date, 'IMG_DATA/47PQS_'+ date + '_B03.jp2')\n",
        "    b4_path = os.path.join(sub_folder, date, 'IMG_DATA/47PQS_'+ date + '_B04.jp2')\n",
        "    b5_path = os.path.join(sub_folder, date, 'IMG_DATA/47PQS_'+ date + '_B05.jp2')\n",
        "    b6_path = os.path.join(sub_folder, date, 'IMG_DATA/47PQS_'+ date + '_B06.jp2')\n",
        "    b7_path = os.path.join(sub_folder, date, 'IMG_DATA/47PQS_'+ date + '_B07.jp2')\n",
        "    b8_path = os.path.join(sub_folder, date, 'IMG_DATA/47PQS_'+ date + '_B08.jp2')\n",
        "    b8a_path = os.path.join(sub_folder, date, 'IMG_DATA/47PQS_'+ date + '_B8A.jp2')\n",
        "    b11_path = os.path.join(sub_folder, date, 'IMG_DATA/47PQS_'+ date + '_B11.jp2')\n",
        "    b12_path = os.path.join(sub_folder, date, 'IMG_DATA/47PQS_'+ date + '_B12.jp2')\n",
        "    scl_path = os.path.join(sub_folder, date, 'IMG_DATA/47PQS_'+ date + '_SCL.jp2')\n",
        "    tci_path = os.path.join(sub_folder, date, 'IMG_DATA/47PQS_'+ date + '_TCI.jp2')\n",
        "    wvp_path = os.path.join(sub_folder, date, 'IMG_DATA/47PQS_'+ date + '_WVP.jp2')\n",
        "\n",
        "    aot = cv2.resize(cv2.imread(aot_path, cv2.IMREAD_ANYDEPTH), dsize=(2051, 2051)) \n",
        "    b1 = cv2.resize(cv2.imread(b1_path, cv2.IMREAD_ANYDEPTH), dsize=(2051, 2051)) \n",
        "    b2 = cv2.resize(cv2.imread(b2_path, cv2.IMREAD_ANYDEPTH), dsize=(2051, 2051)) \n",
        "    b3 = cv2.resize(cv2.imread(b3_path, cv2.IMREAD_ANYDEPTH), dsize=(2051, 2051)) \n",
        "    b4 = cv2.resize(cv2.imread(b4_path, cv2.IMREAD_ANYDEPTH), dsize=(2051, 2051)) \n",
        "    b5 = cv2.resize(cv2.imread(b5_path, cv2.IMREAD_ANYDEPTH), dsize=(2051, 2051)) \n",
        "    b6 = cv2.resize(cv2.imread(b6_path, cv2.IMREAD_ANYDEPTH), dsize=(2051, 2051)) \n",
        "    b7 = cv2.resize(cv2.imread(b7_path, cv2.IMREAD_ANYDEPTH), dsize=(2051, 2051)) \n",
        "    b8 = cv2.resize(cv2.imread(b8_path, cv2.IMREAD_ANYDEPTH), dsize=(2051, 2051)) \n",
        "    b8a = cv2.resize(cv2.imread(b8a_path, cv2.IMREAD_ANYDEPTH), dsize=(2051, 2051)) \n",
        "    b11 = cv2.resize(cv2.imread(b11_path, cv2.IMREAD_ANYDEPTH), dsize=(2051, 2051))  \n",
        "    b12 = cv2.resize(cv2.imread(b12_path, cv2.IMREAD_ANYDEPTH), dsize=(2051, 2051))  \n",
        "    scl = cv2.resize(cv2.imread(scl_path, cv2.IMREAD_ANYDEPTH), dsize=(2051, 2051))  \n",
        "    tci = cv2.resize(cv2.imread(tci_path, cv2.IMREAD_ANYDEPTH), dsize=(2051, 2051))  \n",
        "    wvp = cv2.resize(cv2.imread(wvp_path, cv2.IMREAD_ANYDEPTH), dsize=(2051, 2051))  \n",
        "\n",
        "    combined_spectrals = np.dstack((aot, b1, b2, b3, b4, b5, b6, b7, b8, b8a, b11, b12, scl, tci, wvp))\n",
        "    np.save(saved_folder + date + '.npy', combined_spectrals)"
      ],
      "metadata": {
        "colab": {
          "base_uri": "https://localhost:8080/"
        },
        "id": "zmgr8YM0IO6j",
        "outputId": "c7561fe4-5d93-4c71-978e-af2b36f21314"
      },
      "execution_count": null,
      "outputs": [
        {
          "output_type": "stream",
          "name": "stdout",
          "text": [
            "20200122\n",
            "20200211\n",
            "20200112\n",
            "20200102\n",
            "20200206\n",
            "20200216\n"
          ]
        }
      ]
    },
    {
      "cell_type": "code",
      "source": [
        "!zip -r /content/file.zip /content/combined_spectrals\n",
        "from google.colab import files\n",
        "files.download(\"/content/file.zip\")"
      ],
      "metadata": {
        "id": "CkvTJ3p5MP-O"
      },
      "execution_count": null,
      "outputs": []
    }
  ]
}